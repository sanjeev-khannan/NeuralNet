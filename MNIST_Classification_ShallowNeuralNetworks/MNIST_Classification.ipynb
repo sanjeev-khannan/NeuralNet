{
 "cells": [
  {
   "cell_type": "markdown",
   "id": "7a5d0e8b",
   "metadata": {},
   "source": [
    "# MNIST Classification using Shallow Neural Networks\n",
    "\n",
    "Import necessary packages and loading mnist dataset from keras inbuilt datasets"
   ]
  },
  {
   "cell_type": "code",
   "execution_count": 1,
   "id": "bebce922",
   "metadata": {},
   "outputs": [],
   "source": [
    "import tensorflow as tf\n",
    "from tensorflow.keras.datasets import mnist, fashion_mnist\n",
    "from tensorflow.keras.models import Sequential\n",
    "from tensorflow.keras.layers import Dense, Flatten\n",
    "from tensorflow.keras.metrics import Accuracy, Precision, Recall, AUC\n",
    "\n"
   ]
  },
  {
   "cell_type": "code",
   "execution_count": 2,
   "id": "53be331f",
   "metadata": {},
   "outputs": [],
   "source": [
    "\n",
    "# Load the MNIST dataset\n",
    "(x_train, y_train), (x_test, y_test) = mnist.load_data()"
   ]
  },
  {
   "cell_type": "markdown",
   "id": "903f381f",
   "metadata": {},
   "source": [
    "Visualizing the dataset using matlplotlib"
   ]
  },
  {
   "cell_type": "code",
   "execution_count": 3,
   "id": "f5b19f92",
   "metadata": {},
   "outputs": [
    {
     "data": {
      "image/png": "[encoded data removed]",
      "text/plain": [
       "<Figure size 1000x400 with 10 Axes>"
      ]
     },
     "metadata": {},
     "output_type": "display_data"
    }
   ],
   "source": [
    "import matplotlib.pyplot as plt\n",
    "\n",
    "# Display a few sample images\n",
    "fig, axes = plt.subplots(nrows=2, ncols=5, figsize=(10, 4))\n",
    "\n",
    "for i, ax in enumerate(axes.flatten()):\n",
    "    ax.imshow(x_train[i], cmap='gray')\n",
    "    ax.set_title(f\"Label: {y_train[i]}\")\n",
    "    ax.axis('off')\n",
    "\n",
    "plt.tight_layout()\n",
    "plt.show()\n"
   ]
  },
  {
   "cell_type": "code",
   "execution_count": 4,
   "id": "fe4693e3",
   "metadata": {},
   "outputs": [],
   "source": [
    "x_train = x_train/255\n",
    "x_test = x_test/255"
   ]
  },
  {
   "cell_type": "markdown",
   "id": "36c86f3c",
   "metadata": {},
   "source": [
    "Converting the labels to one-hot encoded vectors to align with the ouput neurons"
   ]
  },
  {
   "cell_type": "code",
   "execution_count": 5,
   "id": "0a7d4539",
   "metadata": {},
   "outputs": [],
   "source": [
    "# Convert the labels to one-hot encoded vectors\n",
    "y_train = tf.keras.utils.to_categorical(y_train, num_classes=10)\n",
    "y_test = tf.keras.utils.to_categorical(y_test, num_classes=10)\n"
   ]
  },
  {
   "cell_type": "markdown",
   "id": "b2cc338f",
   "metadata": {},
   "source": [
    "Building a 3 layer neural network with configurations as follows,\n",
    "- Layer 1 - Input flattening layer with shape (28, 28)\n",
    "- Layer 2 - Hidden Layer with 256 neurons with relu activation\n",
    "- Layer 3 - Output Layer 10 neurons with softmax activation\n"
   ]
  },
  {
   "cell_type": "code",
   "execution_count": 13,
   "id": "51da40aa",
   "metadata": {},
   "outputs": [],
   "source": [
    "# Build the model\n",
    "model = Sequential()\n",
    "model.add(Flatten(input_shape=(28, 28)))\n",
    "model.add(Dense(256, activation='sigmoid'))\n",
    "model.add(Dense(10, activation='softmax'))\n"
   ]
  },
  {
   "cell_type": "markdown",
   "id": "a22b8d16",
   "metadata": {},
   "source": [
    "Using 'accuracy' metrics for evaluation"
   ]
  },
  {
   "cell_type": "code",
   "execution_count": 14,
   "id": "57b9c6ea",
   "metadata": {},
   "outputs": [],
   "source": [
    "metrics = ['accuracy']"
   ]
  },
  {
   "cell_type": "markdown",
   "id": "e275794d",
   "metadata": {},
   "source": [
    "Compile the model with 'Adam' optimizer with loss as 'categorical_crossentropy' as we 10 classes."
   ]
  },
  {
   "cell_type": "code",
   "execution_count": 15,
   "id": "308228b5",
   "metadata": {},
   "outputs": [],
   "source": [
    "model.compile(optimizer=tf.optimizers.Adam(), loss='categorical_crossentropy', metrics=metrics)"
   ]
  },
  {
   "cell_type": "code",
   "execution_count": 16,
   "id": "d032a8f0",
   "metadata": {},
   "outputs": [
    {
     "name": "stdout",
     "output_type": "stream",
     "text": [
      "Model: \"sequential_1\"\n",
      "_________________________________________________________________\n",
      " Layer (type)                Output Shape              Param #   \n",
      "=================================================================\n",
      " flatten_1 (Flatten)         (None, 784)               0         \n",
      "                                                                 \n",
      " dense_2 (Dense)             (None, 256)               200960    \n",
      "                                                                 \n",
      " dense_3 (Dense)             (None, 10)                2570      \n",
      "                                                                 \n",
      "=================================================================\n",
      "Total params: 203,530\n",
      "Trainable params: 203,530\n",
      "Non-trainable params: 0\n",
      "_________________________________________________________________\n"
     ]
    }
   ],
   "source": [
    "model.summary()"
   ]
  },
  {
   "cell_type": "markdown",
   "id": "a9c2bac1",
   "metadata": {},
   "source": [
    "After multiple observations, We are gonnna fit the model with 20 epochs. Further 20 epochs, model seems to be overfitting.\n",
    " \n",
    "And let's use the batch size as 32."
   ]
  },
  {
   "cell_type": "code",
   "execution_count": 17,
   "id": "9f2e5a82",
   "metadata": {
    "scrolled": true
   },
   "outputs": [
    {
     "name": "stdout",
     "output_type": "stream",
     "text": [
      "Epoch 1/20\n",
      "1875/1875 [==============================] - 3s 1ms/step - loss: 0.3652 - accuracy: 0.8997 - val_loss: 0.2196 - val_accuracy: 0.9334\n",
      "Epoch 2/20\n",
      "1875/1875 [==============================] - 3s 1ms/step - loss: 0.1805 - accuracy: 0.9479 - val_loss: 0.1518 - val_accuracy: 0.9546\n",
      "Epoch 3/20\n",
      "1875/1875 [==============================] - 3s 1ms/step - loss: 0.1254 - accuracy: 0.9631 - val_loss: 0.1124 - val_accuracy: 0.9655\n",
      "Epoch 4/20\n",
      "1875/1875 [==============================] - 3s 2ms/step - loss: 0.0916 - accuracy: 0.9736 - val_loss: 0.0944 - val_accuracy: 0.9710\n",
      "Epoch 5/20\n",
      "1875/1875 [==============================] - 3s 1ms/step - loss: 0.0710 - accuracy: 0.9792 - val_loss: 0.0776 - val_accuracy: 0.9754\n",
      "Epoch 6/20\n",
      "1875/1875 [==============================] - 3s 1ms/step - loss: 0.0553 - accuracy: 0.9835 - val_loss: 0.0778 - val_accuracy: 0.9766\n",
      "Epoch 7/20\n",
      "1875/1875 [==============================] - 3s 2ms/step - loss: 0.0432 - accuracy: 0.9881 - val_loss: 0.0684 - val_accuracy: 0.9792\n",
      "Epoch 8/20\n",
      "1875/1875 [==============================] - 3s 1ms/step - loss: 0.0345 - accuracy: 0.9906 - val_loss: 0.0672 - val_accuracy: 0.9780\n",
      "Epoch 9/20\n",
      "1875/1875 [==============================] - 3s 1ms/step - loss: 0.0268 - accuracy: 0.9930 - val_loss: 0.0643 - val_accuracy: 0.9810\n",
      "Epoch 10/20\n",
      "1875/1875 [==============================] - 3s 1ms/step - loss: 0.0214 - accuracy: 0.9947 - val_loss: 0.0627 - val_accuracy: 0.9803\n",
      "Epoch 11/20\n",
      "1875/1875 [==============================] - 3s 2ms/step - loss: 0.0166 - accuracy: 0.9963 - val_loss: 0.0586 - val_accuracy: 0.9821\n",
      "Epoch 12/20\n",
      "1875/1875 [==============================] - 3s 1ms/step - loss: 0.0129 - accuracy: 0.9973 - val_loss: 0.0620 - val_accuracy: 0.9803\n",
      "Epoch 13/20\n",
      "1875/1875 [==============================] - 3s 1ms/step - loss: 0.0096 - accuracy: 0.9985 - val_loss: 0.0614 - val_accuracy: 0.9825\n",
      "Epoch 14/20\n",
      "1875/1875 [==============================] - 3s 1ms/step - loss: 0.0080 - accuracy: 0.9988 - val_loss: 0.0655 - val_accuracy: 0.9800\n",
      "Epoch 15/20\n",
      "1875/1875 [==============================] - 3s 2ms/step - loss: 0.0058 - accuracy: 0.9993 - val_loss: 0.0623 - val_accuracy: 0.9816\n",
      "Epoch 16/20\n",
      "1875/1875 [==============================] - 3s 1ms/step - loss: 0.0049 - accuracy: 0.9994 - val_loss: 0.0641 - val_accuracy: 0.9823\n",
      "Epoch 17/20\n",
      "1875/1875 [==============================] - 3s 1ms/step - loss: 0.0031 - accuracy: 0.9999 - val_loss: 0.0628 - val_accuracy: 0.9815\n",
      "Epoch 18/20\n",
      "1875/1875 [==============================] - 3s 1ms/step - loss: 0.0033 - accuracy: 0.9996 - val_loss: 0.0618 - val_accuracy: 0.9832\n",
      "Epoch 19/20\n",
      "1875/1875 [==============================] - 3s 2ms/step - loss: 0.0022 - accuracy: 0.9998 - val_loss: 0.0711 - val_accuracy: 0.9815\n",
      "Epoch 20/20\n",
      "1875/1875 [==============================] - 3s 1ms/step - loss: 0.0022 - accuracy: 0.9998 - val_loss: 0.0665 - val_accuracy: 0.9824\n"
     ]
    }
   ],
   "source": [
    "history = model.fit(x_train, y_train, epochs=20, batch_size=32, validation_data=(x_test, y_test))"
   ]
  },
  {
   "cell_type": "markdown",
   "id": "e1e9abb3",
   "metadata": {},
   "source": [
    "Plotting Epochs and Accuracy as a line graph"
   ]
  },
  {
   "cell_type": "code",
   "execution_count": 18,
   "id": "5e2d728a",
   "metadata": {
    "scrolled": false
   },
   "outputs": [
    {
     "data": {
      "image/png": "[encoded data removed]",
      "text/plain": [
       "<Figure size 640x480 with 1 Axes>"
      ]
     },
     "metadata": {},
     "output_type": "display_data"
    }
   ],
   "source": [
    "plt.plot(history.epoch, history.history['val_accuracy'])\n",
    "plt.xlabel('Epoch')\n",
    "plt.ylabel('Accuracy')\n",
    "plt.title('Accuracy vs Epoch')\n",
    "plt.show()"
   ]
  },
  {
   "cell_type": "markdown",
   "id": "e48ab492",
   "metadata": {},
   "source": [
    "Let's create a canvas using Matplotlib where you can draw by clicking and dragging the mouse. Once you're done drawing, press 'Enter' to predict the digit. To clear the canvas, simply press 'C'."
   ]
  },
  {
   "cell_type": "code",
   "execution_count": null,
   "id": "07e84c85",
   "metadata": {},
   "outputs": [],
   "source": [
    "import numpy as np\n",
    "import matplotlib.pyplot as plt\n",
    "import cv2\n",
    "import time\n",
    "\n",
    "# Set up the drawing canvas\n",
    "canvas = np.ones((280, 280), dtype=np.uint8) * 255\n",
    "\n",
    "def predict_digit(image):\n",
    "    # Preprocess the image for prediction\n",
    "#     image = cv2.bitwise_not(image)\n",
    "    image = cv2.resize(image, (28, 28))\n",
    "    image = image.reshape(1, 28, 28)\n",
    "    image = image.astype('float32') / 255.0\n",
    "    \n",
    "\n",
    "    # Make the prediction using the pre-trained model\n",
    "    prediction = model.predict(image, verbose=0)\n",
    "    digit = np.argmax(prediction)\n",
    "\n",
    "    return digit\n",
    "\n",
    "def draw(event, x, y, flags, param):\n",
    "    global canvas, drawing\n",
    "\n",
    "    if event == cv2.EVENT_LBUTTONDOWN:\n",
    "        drawing = True\n",
    "    elif event == cv2.EVENT_LBUTTONUP:\n",
    "        drawing = False\n",
    "    elif event == cv2.EVENT_MOUSEMOVE:\n",
    "        if drawing:\n",
    "            cv2.circle(canvas, (x, y), 10, (255, 255, 255), -1)\n",
    "\n",
    "# Set up the window and callback function for mouse events\n",
    "cv2.namedWindow('Digit Recognition')\n",
    "cv2.setMouseCallback('Digit Recognition', draw)\n",
    "\n",
    "canvas = cv2.bitwise_not(canvas)\n",
    "\n",
    "while True:\n",
    "    # Display the drawing canvas\n",
    "    cv2.imshow('Digit Recognition', canvas)\n",
    "    \n",
    "    # Reset the drawing canvas when the 'C' key is pressed\n",
    "    if cv2.waitKey(1) & 0xFF == ord('c'):\n",
    "        canvas = np.ones((280, 280), dtype=np.uint8) * 255\n",
    "        canvas = cv2.bitwise_not(canvas)\n",
    "\n",
    "    # Exit the loop when the 'Esc' key is pressed\n",
    "    if cv2.waitKey(1) & 0xFF == 27:\n",
    "        break\n",
    "    \n",
    "    if cv2.waitKey(1) & 0xFF == 13:\n",
    "        # Perform digit recognition\n",
    "        digit = predict_digit(canvas)\n",
    "        cv2.putText(canvas, f'Predicted Digit:{digit}', (10, 30), cv2.FONT_HERSHEY_SIMPLEX, 1, (255, 255, 255), 2)\n",
    "\n",
    "cv2.destroyAllWindows()\n"
   ]
  }
 ],
 "metadata": {
  "kernelspec": {
   "display_name": "Python 3 (ipykernel)",
   "language": "python",
   "name": "python3"
  },
  "language_info": {
   "codemirror_mode": {
    "name": "ipython",
    "version": 3
   },
   "file_extension": ".py",
   "mimetype": "text/x-python",
   "name": "python",
   "nbconvert_exporter": "python",
   "pygments_lexer": "ipython3",
   "version": "3.10.11"
  }
 },
 "nbformat": 4,
 "nbformat_minor": 5
}
