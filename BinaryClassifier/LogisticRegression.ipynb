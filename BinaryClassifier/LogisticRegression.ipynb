{
 "cells": [
  {
   "cell_type": "markdown",
   "id": "270dc83e",
   "metadata": {},
   "source": [
    "# Implementation of Binary Classifier using LogisticRegression from scratch \n",
    "\n",
    "* Input neurons : 2\n",
    "* Activation function : Sigmoid\n",
    "* Loss function : Log loss\n",
    "* Output neuron : 1"
   ]
  },
  {
   "cell_type": "code",
   "execution_count": null,
   "id": "270dc83e",
   "metadata": {},
   "outputs": [],
   "source": [
    "import math\n",
    "import random"
   ]
  },
  {
   "cell_type": "markdown",
   "id": "20b7c0ca",
   "metadata": {},
   "source": [
    "Sigmoid activation function using formula $\\sigma(z) = \\frac{1}{1 + e^{-z}}$"
   ]
  },
  {
   "cell_type": "code",
   "execution_count": 2,
   "id": "93cdef63",
   "metadata": {},
   "outputs": [],
   "source": [
    "def sigmoid(z:float)->float:\n",
    "    if z < 0:\n",
    "        return 1 - (1/(1+math.exp(z)))\n",
    "    return 1/(1+math.exp(-z))"
   ]
  },
  {
   "cell_type": "markdown",
   "id": "7340b898",
   "metadata": {},
   "source": [
    "Creating a random dataset with condition if x1 < 0.2 and x2 > 0.8, y should be 0, otherwise 1"
   ]
  },
  {
   "cell_type": "code",
   "execution_count": 3,
   "id": "c1d2d278",
   "metadata": {},
   "outputs": [],
   "source": [
    "dataset = []\n",
    "m = 10000\n",
    "for j in range(m):\n",
    "    x1 = round(random.random(), 4)\n",
    "    x2 = round(random.random(), 4)\n",
    "    y = 0 if x1<0.2 and x2>0.8 else 1\n",
    "\n",
    "    dataset += [(x1, x2, y)]"
   ]
  },
  {
   "cell_type": "markdown",
   "id": "501410ba",
   "metadata": {},
   "source": [
    "Initializing some random weights and bias"
   ]
  },
  {
   "cell_type": "code",
   "execution_count": 6,
   "id": "98c018e1",
   "metadata": {},
   "outputs": [],
   "source": [
    "w1 = 0.123\n",
    "w2 = 0.42\n",
    "b1 = 0.887"
   ]
  },
  {
   "cell_type": "markdown",
   "id": "69eed6fa",
   "metadata": {},
   "source": [
    "Training for an epoch of 10000 with learning rate 0.01\n",
    "\n",
    "Following are the derivative notations used in the code for reference\n",
    "\n",
    "$dz = \\frac{dJ}{dz}$\n",
    "\n",
    "$dw1 = \\frac{dJ}{dw1}$\n",
    "\n",
    "$dw2 = \\frac{dJ}{dw2}$\n",
    "\n",
    "$db1 = \\frac{dJ}{db1}$\n"
   ]
  },
  {
   "cell_type": "code",
   "execution_count": 7,
   "id": "221d40a2",
   "metadata": {},
   "outputs": [
    {
     "name": "stdout",
     "output_type": "stream",
     "text": [
      "Cost - 0.13255380968712718\n"
     ]
    }
   ],
   "source": [
    "cost_history = []\n",
    "epochs = 10000\n",
    "for epoch in range(epochs):\n",
    "    cost_J = 0\n",
    "    dw1 = 0\n",
    "    dw2 = 0\n",
    "    db1 = 0\n",
    "    dz = 0\n",
    "    l_rate = 0.01\n",
    "\n",
    "    for i in range(m):\n",
    "        x1, x2, y = dataset[i]\n",
    "        z = (w1 * x1) + (w2 * x2) + b1\n",
    "        y_c = sigmoid(z)\n",
    "        \n",
    "        # Adding a small value of 1e-10 to the y_c to get rid of log(0) or log(negative value)\n",
    "        cost_J += -(y * math.log(y_c + 1e-10) + (1 - y) * math.log(1 - y_c + 1e-10))\n",
    "\n",
    "        # \n",
    "        dz = y_c - y\n",
    "        dw1 += x1 * dz\n",
    "        dw2 += x2 * dz\n",
    "        db1 += dz\n",
    "\n",
    "    cost_J /= m\n",
    "    dw1 /= m\n",
    "    dw2 /= m\n",
    "    db1 /= m\n",
    "\n",
    "    w1 = w1 - (l_rate * dw1)\n",
    "    w2 = w2 - (l_rate * dw2)\n",
    "    b1 = b1 - (l_rate * db1)\n",
    "\n",
    "    cost_history += [cost_J]\n",
    "print(f\"Cost - {cost_J}\")\n",
    "\n"
   ]
  },
  {
   "cell_type": "markdown",
   "id": "66bd83f1",
   "metadata": {},
   "source": [
    "Creating a function to plot the history of cost function as a 2d graph"
   ]
  },
  {
   "cell_type": "code",
   "execution_count": 12,
   "id": "09146e9a",
   "metadata": {},
   "outputs": [],
   "source": [
    "import matplotlib.pyplot as plt\n",
    "\n",
    "def plot_2d_graph(array):\n",
    "    x = [i for i in range(len(array))]\n",
    "    y = array\n",
    "\n",
    "    plt.plot(x, y)\n",
    "    plt.xlabel('Epoch')\n",
    "    plt.ylabel('Cost(J)')\n",
    "    plt.title('Gradient of Cost function J')\n",
    "    plt.show()"
   ]
  },
  {
   "cell_type": "code",
   "execution_count": 13,
   "id": "cdc0f879",
   "metadata": {},
   "outputs": [
    {
     "data": {
      "image/png": "[encoded data removed]",
      "text/plain": [
       "<Figure size 640x480 with 1 Axes>"
      ]
     },
     "metadata": {},
     "output_type": "display_data"
    }
   ],
   "source": [
    "plot_2d_graph(cost_history)"
   ]
  },
  {
   "cell_type": "code",
   "execution_count": null,
   "id": "aec18f34",
   "metadata": {},
   "outputs": [],
   "source": []
  }
 ],
 "metadata": {
  "kernelspec": {
   "display_name": "Python 3 (ipykernel)",
   "language": "python",
   "name": "python3"
  },
  "language_info": {
   "codemirror_mode": {
    "name": "ipython",
    "version": 3
   },
   "file_extension": ".py",
   "mimetype": "text/x-python",
   "name": "python",
   "nbconvert_exporter": "python",
   "pygments_lexer": "ipython3",
   "version": "3.9.13"
  }
 },
 "nbformat": 4,
 "nbformat_minor": 5
}
